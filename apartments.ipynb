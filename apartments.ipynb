{
 "cells": [
  {
   "cell_type": "markdown",
   "metadata": {},
   "source": [
    "# The Most Expensive Metro Stations in Moscow \n",
    "Based off of the apartments listings from [realto.ru](http://www.realto.ru/base/flat_sale/?SecLodg_step=1&filter%5BRegion%5D=moscow) I will try to show through a linear regression where the most expensive metro stations are."
   ]
  },
  {
   "cell_type": "markdown",
   "metadata": {},
   "source": [
    "## Libraries needed"
   ]
  },
  {
   "cell_type": "code",
   "execution_count": 1,
   "metadata": {},
   "outputs": [],
   "source": [
    "import pandas as pd\n",
    "import matplotlib.pyplot as plt\n",
    "import seaborn as sns\n",
    "import scrapy\n",
    "from sklearn.linear_model import LinearRegression\n",
    "from sklearn.model_selection import train_test_split\n",
    "import requests\n",
    "import json"
   ]
  },
  {
   "cell_type": "markdown",
   "metadata": {},
   "source": [
    "## Web scrapping\n",
    "The data from [realto.ru](http://www.realto.ru/base/flat_sale/?SecLodg_step=1&filter%5BRegion%5D=moscow) that will be used is the apartment price in Rubles, the nearest metro station, the number of rooms, the size of the apartment and the floor it's located on. The website has the most recent 1500 listings available.  "
   ]
  },
  {
   "cell_type": "code",
   "execution_count": 3,
   "metadata": {},
   "outputs": [],
   "source": [
    "class PostsSpider(scrapy.Spider):\n",
    "    name=\"ma\"    \n",
    "    start_urls=[\n",
    "        'http://www.realto.ru/base/flat_sale/?SecLodg_step='+str(x)+'&filter%5BRegion%5D=moscow'\n",
    "        for x in range(1,55)    \n",
    "    ]     \n",
    "      def parse(self, response):\n",
    "        for row in response.css('tr.row_base'):\n",
    "            yield {\n",
    "                'price':row.css('td:nth-child(1) > small:nth-child(2)::text').get(),\n",
    "                'metro':row.css('td:nth-child(3)::text').get(),\n",
    "                'rooms':row.css('td:nth-child(4)::text').get(),\n",
    "                'size':row.css('td:nth-child(5) > span:nth-child(1)::text').get(),\n",
    "                'f_b':row.css('td:nth-child(6)::text').get()\n",
    "            }     "
   ]
  },
  {
   "cell_type": "markdown",
   "metadata": {},
   "source": [
    "## Importing the scrapped data "
   ]
  },
  {
   "cell_type": "code",
   "execution_count": 7,
   "metadata": {},
   "outputs": [
    {
     "data": {
      "text/html": [
       "<div>\n",
       "<style scoped>\n",
       "    .dataframe tbody tr th:only-of-type {\n",
       "        vertical-align: middle;\n",
       "    }\n",
       "\n",
       "    .dataframe tbody tr th {\n",
       "        vertical-align: top;\n",
       "    }\n",
       "\n",
       "    .dataframe thead th {\n",
       "        text-align: right;\n",
       "    }\n",
       "</style>\n",
       "<table border=\"1\" class=\"dataframe\">\n",
       "  <thead>\n",
       "    <tr style=\"text-align: right;\">\n",
       "      <th></th>\n",
       "      <th>price</th>\n",
       "      <th>metro</th>\n",
       "      <th>rooms</th>\n",
       "      <th>size</th>\n",
       "      <th>f_b</th>\n",
       "    </tr>\n",
       "  </thead>\n",
       "  <tbody>\n",
       "    <tr>\n",
       "      <th>0</th>\n",
       "      <td>9 214 134 руб.</td>\n",
       "      <td>\\n\\t\\t\\t\\t\\t\\t\\t\\t\\t\\t\\t\\t\\tм. Кузьминки\\n\\t\\t...</td>\n",
       "      <td>\\n\\t\\t\\t\\t\\t\\t\\t\\t\\t\\t\\t\\t2-к. кв.\\n\\t\\t\\t\\t\\t...</td>\n",
       "      <td>\\n\\t\\t\\t\\t\\t\\t\\t49\\n\\t\\t\\t\\t\\t\\t /\\n\\t\\t\\t\\t\\t...</td>\n",
       "      <td>\\n\\t\\t\\t\\t\\t\\t\\t12\\n\\t\\t\\t\\t\\t\\t\\t\\t\\t\\t\\t/14\\...</td>\n",
       "    </tr>\n",
       "    <tr>\n",
       "      <th>1</th>\n",
       "      <td>26 153 426 руб.</td>\n",
       "      <td>\\n\\t\\t\\t\\t\\t\\t\\t\\t\\t\\t\\t\\t\\tм. Славянский буль...</td>\n",
       "      <td>\\n\\t\\t\\t\\t\\t\\t\\t\\t\\t\\t\\t\\t3-к. кв.\\n\\t\\t\\t\\t\\t...</td>\n",
       "      <td>\\n\\t\\t\\t\\t\\t\\t\\t108\\n\\t\\t\\t\\t\\t\\t /\\n\\t\\t\\t\\t\\...</td>\n",
       "      <td>\\n\\t\\t\\t\\t\\t\\t\\t16\\n\\t\\t\\t\\t\\t\\t\\t\\t\\t\\t\\t/23\\...</td>\n",
       "    </tr>\n",
       "  </tbody>\n",
       "</table>\n",
       "</div>"
      ],
      "text/plain": [
       "             price                                              metro  \\\n",
       "0   9 214 134 руб.  \\n\\t\\t\\t\\t\\t\\t\\t\\t\\t\\t\\t\\t\\tм. Кузьминки\\n\\t\\t...   \n",
       "1  26 153 426 руб.  \\n\\t\\t\\t\\t\\t\\t\\t\\t\\t\\t\\t\\t\\tм. Славянский буль...   \n",
       "\n",
       "                                               rooms  \\\n",
       "0  \\n\\t\\t\\t\\t\\t\\t\\t\\t\\t\\t\\t\\t2-к. кв.\\n\\t\\t\\t\\t\\t...   \n",
       "1  \\n\\t\\t\\t\\t\\t\\t\\t\\t\\t\\t\\t\\t3-к. кв.\\n\\t\\t\\t\\t\\t...   \n",
       "\n",
       "                                                size  \\\n",
       "0  \\n\\t\\t\\t\\t\\t\\t\\t49\\n\\t\\t\\t\\t\\t\\t /\\n\\t\\t\\t\\t\\t...   \n",
       "1  \\n\\t\\t\\t\\t\\t\\t\\t108\\n\\t\\t\\t\\t\\t\\t /\\n\\t\\t\\t\\t\\...   \n",
       "\n",
       "                                                 f_b  \n",
       "0  \\n\\t\\t\\t\\t\\t\\t\\t12\\n\\t\\t\\t\\t\\t\\t\\t\\t\\t\\t\\t/14\\...  \n",
       "1  \\n\\t\\t\\t\\t\\t\\t\\t16\\n\\t\\t\\t\\t\\t\\t\\t\\t\\t\\t\\t/23\\...  "
      ]
     },
     "execution_count": 7,
     "metadata": {},
     "output_type": "execute_result"
    }
   ],
   "source": [
    "apartments=pd.read_csv('moscow.csv')\n",
    "apartments.head(2)"
   ]
  },
  {
   "cell_type": "markdown",
   "metadata": {},
   "source": [
    "## Cleaning the data"
   ]
  },
  {
   "cell_type": "code",
   "execution_count": 8,
   "metadata": {},
   "outputs": [
    {
     "data": {
      "text/html": [
       "<div>\n",
       "<style scoped>\n",
       "    .dataframe tbody tr th:only-of-type {\n",
       "        vertical-align: middle;\n",
       "    }\n",
       "\n",
       "    .dataframe tbody tr th {\n",
       "        vertical-align: top;\n",
       "    }\n",
       "\n",
       "    .dataframe thead th {\n",
       "        text-align: right;\n",
       "    }\n",
       "</style>\n",
       "<table border=\"1\" class=\"dataframe\">\n",
       "  <thead>\n",
       "    <tr style=\"text-align: right;\">\n",
       "      <th></th>\n",
       "      <th>price_ruble</th>\n",
       "      <th>metro</th>\n",
       "      <th>rooms</th>\n",
       "      <th>sqr_meters</th>\n",
       "      <th>floor</th>\n",
       "    </tr>\n",
       "  </thead>\n",
       "  <tbody>\n",
       "    <tr>\n",
       "      <th>0</th>\n",
       "      <td>9214134</td>\n",
       "      <td>Кузьминки</td>\n",
       "      <td>2</td>\n",
       "      <td>49</td>\n",
       "      <td>12</td>\n",
       "    </tr>\n",
       "    <tr>\n",
       "      <th>1</th>\n",
       "      <td>26153426</td>\n",
       "      <td>Славянский бульвар</td>\n",
       "      <td>3</td>\n",
       "      <td>108</td>\n",
       "      <td>16</td>\n",
       "    </tr>\n",
       "  </tbody>\n",
       "</table>\n",
       "</div>"
      ],
      "text/plain": [
       "   price_ruble               metro  rooms  sqr_meters  floor\n",
       "0      9214134           Кузьминки      2          49     12\n",
       "1     26153426  Славянский бульвар      3         108     16"
      ]
     },
     "execution_count": 8,
     "metadata": {},
     "output_type": "execute_result"
    }
   ],
   "source": [
    "apartments.columns=['price_ruble','metro','rooms','sqr_meters','floor']\n",
    "apartments.price_ruble=apartments.price_ruble.apply(lambda x: int(x.replace('руб.','').replace(' ','')))\n",
    "apartments.metro=apartments.metro.apply(lambda x: x.replace('м.','').strip())\n",
    "apartments.rooms=apartments.rooms.apply(lambda x: x.replace('-к. кв.','').strip())\n",
    "apartments.rooms=apartments.rooms.apply(lambda x: x.replace('комн.',''))\n",
    "apartments.rooms=apartments.rooms.apply(lambda x: x.replace('из 4',''))\n",
    "apartments.rooms=apartments.rooms.apply(lambda x: x.replace('из 3',''))\n",
    "apartments.rooms=apartments.rooms.apply(lambda x: x.replace('из 2',''))\n",
    "apartments.rooms=apartments.rooms.apply(lambda x: int(x))\n",
    "apartments.sqr_meters=apartments.sqr_meters.str.extract('(\\d+)')\n",
    "apartments.floor=apartments.floor.str.extract('(\\d+)')\n",
    "apartments.sqr_meters=apartments.sqr_meters.apply(lambda x: int(x))\n",
    "apartments.floor=apartments.floor.apply(lambda x: int(x))\n",
    "dummies=pd.get_dummies(apartments['metro']).rename(columns=lambda x:str(x))\n",
    "apartments.head(2)"
   ]
  },
  {
   "cell_type": "markdown",
   "metadata": {},
   "source": [
    "## Creating dummy variables\n",
    "In order to do a linear regression I have to my categorical variable into dummy variables"
   ]
  },
  {
   "cell_type": "code",
   "execution_count": 9,
   "metadata": {},
   "outputs": [
    {
     "data": {
      "text/html": [
       "<div>\n",
       "<style scoped>\n",
       "    .dataframe tbody tr th:only-of-type {\n",
       "        vertical-align: middle;\n",
       "    }\n",
       "\n",
       "    .dataframe tbody tr th {\n",
       "        vertical-align: top;\n",
       "    }\n",
       "\n",
       "    .dataframe thead th {\n",
       "        text-align: right;\n",
       "    }\n",
       "</style>\n",
       "<table border=\"1\" class=\"dataframe\">\n",
       "  <thead>\n",
       "    <tr style=\"text-align: right;\">\n",
       "      <th></th>\n",
       "      <th>price_ruble</th>\n",
       "      <th>rooms</th>\n",
       "      <th>sqr_meters</th>\n",
       "      <th>floor</th>\n",
       "      <th>Авиамоторная</th>\n",
       "      <th>Автозаводская</th>\n",
       "      <th>Академическая</th>\n",
       "      <th>Алексеевская</th>\n",
       "      <th>Алма-Атинская</th>\n",
       "      <th>Алтуфьево</th>\n",
       "      <th>...</th>\n",
       "      <th>Чистые Пруды</th>\n",
       "      <th>Шаболовская</th>\n",
       "      <th>Шипиловская</th>\n",
       "      <th>Шоссе Энтузиастов</th>\n",
       "      <th>Щелковская</th>\n",
       "      <th>Щукинская</th>\n",
       "      <th>Электрозаводская</th>\n",
       "      <th>Юго-Западная</th>\n",
       "      <th>Южная</th>\n",
       "      <th>Ясенево</th>\n",
       "    </tr>\n",
       "  </thead>\n",
       "  <tbody>\n",
       "    <tr>\n",
       "      <th>0</th>\n",
       "      <td>9214134</td>\n",
       "      <td>2</td>\n",
       "      <td>49</td>\n",
       "      <td>12</td>\n",
       "      <td>0</td>\n",
       "      <td>0</td>\n",
       "      <td>0</td>\n",
       "      <td>0</td>\n",
       "      <td>0</td>\n",
       "      <td>0</td>\n",
       "      <td>...</td>\n",
       "      <td>0</td>\n",
       "      <td>0</td>\n",
       "      <td>0</td>\n",
       "      <td>0</td>\n",
       "      <td>0</td>\n",
       "      <td>0</td>\n",
       "      <td>0</td>\n",
       "      <td>0</td>\n",
       "      <td>0</td>\n",
       "      <td>0</td>\n",
       "    </tr>\n",
       "    <tr>\n",
       "      <th>1</th>\n",
       "      <td>26153426</td>\n",
       "      <td>3</td>\n",
       "      <td>108</td>\n",
       "      <td>16</td>\n",
       "      <td>0</td>\n",
       "      <td>0</td>\n",
       "      <td>0</td>\n",
       "      <td>0</td>\n",
       "      <td>0</td>\n",
       "      <td>0</td>\n",
       "      <td>...</td>\n",
       "      <td>0</td>\n",
       "      <td>0</td>\n",
       "      <td>0</td>\n",
       "      <td>0</td>\n",
       "      <td>0</td>\n",
       "      <td>0</td>\n",
       "      <td>0</td>\n",
       "      <td>0</td>\n",
       "      <td>0</td>\n",
       "      <td>0</td>\n",
       "    </tr>\n",
       "  </tbody>\n",
       "</table>\n",
       "<p>2 rows × 152 columns</p>\n",
       "</div>"
      ],
      "text/plain": [
       "   price_ruble  rooms  sqr_meters  floor  Авиамоторная  Автозаводская  \\\n",
       "0      9214134      2          49     12             0              0   \n",
       "1     26153426      3         108     16             0              0   \n",
       "\n",
       "   Академическая  Алексеевская  Алма-Атинская  Алтуфьево  ...  Чистые Пруды  \\\n",
       "0              0             0              0          0  ...             0   \n",
       "1              0             0              0          0  ...             0   \n",
       "\n",
       "   Шаболовская  Шипиловская  Шоссе Энтузиастов  Щелковская  Щукинская  \\\n",
       "0            0            0                  0           0          0   \n",
       "1            0            0                  0           0          0   \n",
       "\n",
       "   Электрозаводская  Юго-Западная  Южная  Ясенево  \n",
       "0                 0             0      0        0  \n",
       "1                 0             0      0        0  \n",
       "\n",
       "[2 rows x 152 columns]"
      ]
     },
     "execution_count": 9,
     "metadata": {},
     "output_type": "execute_result"
    }
   ],
   "source": [
    "apartments=pd.concat([apartments, dummies],axis=1)\n",
    "apartments=apartments.drop(['metro'],axis=1)\n",
    "apartments.head(2)"
   ]
  },
  {
   "cell_type": "markdown",
   "metadata": {},
   "source": [
    "# R2 score before eliminating outliers R2 score\n",
    "My explanitory variables (rooms, sqr_meters, floor, and metro station) are able to explain 0.766 of the dependent variable (price_ruble). "
   ]
  },
  {
   "cell_type": "code",
   "execution_count": 10,
   "metadata": {},
   "outputs": [
    {
     "data": {
      "text/plain": [
       "0.7655033246738763"
      ]
     },
     "execution_count": 10,
     "metadata": {},
     "output_type": "execute_result"
    }
   ],
   "source": [
    "X=apartments.loc[:,apartments.columns != 'price_ruble']\n",
    "y=apartments['price_ruble']\n",
    "X_train, X_test, y_train, y_test = train_test_split(X, y,\n",
    "                                                  test_size=0.3,\n",
    "                                                  random_state=1)\n",
    "reg = LinearRegression().fit(X, y) \n",
    "reg.score(X, y)"
   ]
  },
  {
   "cell_type": "markdown",
   "metadata": {},
   "source": [
    "## Identifying Outliers"
   ]
  },
  {
   "cell_type": "code",
   "execution_count": 11,
   "metadata": {
    "scrolled": false
   },
   "outputs": [
    {
     "data": {
      "image/png": "[encoded data removed]",
      "text/plain": [
       "<Figure size 1080x504 with 4 Axes>"
      ]
     },
     "metadata": {
      "needs_background": "light"
     },
     "output_type": "display_data"
    }
   ],
   "source": [
    "fig,ax=plt.subplots(2,2)\n",
    "fig.set_size_inches(15,7)\n",
    "plt.subplot(2,2,1)\n",
    "plt.hist(apartments.price_ruble)\n",
    "plt.title('price')\n",
    "plt.subplot(2,2,2)\n",
    "plt.hist(apartments.rooms)\n",
    "plt.title('rooms')\n",
    "plt.subplot(2,2,3)\n",
    "plt.hist(apartments.sqr_meters)\n",
    "plt.title('square meters')\n",
    "plt.subplot(2,2,4)\n",
    "plt.hist(apartments.floor)\n",
    "plt.title('floor')\n",
    "plt.tight_layout()"
   ]
  },
  {
   "cell_type": "markdown",
   "metadata": {},
   "source": [
    "## Removing outliers \n",
    "Based on the histograms I've decided that an apartment that either has 6 or more room, is located on a floor higher than 69, is bigger than 500 square meters, or costs more than 200,000,000 rubles ($2.7 million) to be an outlier. After removing these observations our dataset went from a size of 1500 to 1484. "
   ]
  },
  {
   "cell_type": "code",
   "execution_count": 12,
   "metadata": {},
   "outputs": [
    {
     "name": "stdout",
     "output_type": "stream",
     "text": [
      "1500\n",
      "1484\n"
     ]
    }
   ],
   "source": [
    "print(len(apartments))\n",
    "apartments=apartments[apartments.rooms<7]\n",
    "apartments=apartments[apartments.floor<70]\n",
    "apartments=apartments[apartments.sqr_meters<500]\n",
    "apartments=apartments[apartments.price_ruble<200000000]\n",
    "print(len(apartments))"
   ]
  },
  {
   "cell_type": "markdown",
   "metadata": {},
   "source": [
    "## Checking the distribution of the data\n",
    "After the removal of the outliers the distribution of the data looks a lot more normal. "
   ]
  },
  {
   "cell_type": "code",
   "execution_count": 13,
   "metadata": {
    "scrolled": false
   },
   "outputs": [
    {
     "data": {
      "image/png": "[encoded data removed]",
      "text/plain": [
       "<Figure size 1080x504 with 4 Axes>"
      ]
     },
     "metadata": {
      "needs_background": "light"
     },
     "output_type": "display_data"
    }
   ],
   "source": [
    "fig,ax=plt.subplots(2,2)\n",
    "fig.set_size_inches(15,7)\n",
    "plt.subplot(2,2,1)\n",
    "plt.hist(apartments.price_ruble)\n",
    "plt.title('price')\n",
    "plt.subplot(2,2,2)\n",
    "plt.hist(apartments.rooms)\n",
    "plt.title('rooms')\n",
    "plt.subplot(2,2,3)\n",
    "plt.hist(apartments.sqr_meters)\n",
    "plt.title('square meters')\n",
    "plt.subplot(2,2,4)\n",
    "plt.hist(apartments.floor)\n",
    "plt.title('floor')\n",
    "plt.tight_layout()"
   ]
  },
  {
   "cell_type": "markdown",
   "metadata": {},
   "source": [
    "## New R2 score\n",
    "The R2 incread to 0.875 after removing the outliers. "
   ]
  },
  {
   "cell_type": "code",
   "execution_count": 14,
   "metadata": {},
   "outputs": [
    {
     "data": {
      "text/plain": [
       "0.8749133438365437"
      ]
     },
     "execution_count": 14,
     "metadata": {},
     "output_type": "execute_result"
    }
   ],
   "source": [
    "X=apartments.loc[:,apartments.columns != 'price_ruble']\n",
    "y=apartments['price_ruble']\n",
    "X_train, X_test, y_train, y_test = train_test_split(X, y,\n",
    "                                                  test_size=0.1,\n",
    "                                                  random_state=1)\n",
    "reg = LinearRegression().fit(X, y) \n",
    "reg.score(X, y)"
   ]
  },
  {
   "cell_type": "markdown",
   "metadata": {},
   "source": [
    "## Sorting the metro stations\n",
    "Based off off the coefficients from the regression I am able to rank the stations. With all other variables held constant my regression says Добрынинская is the most expensive and багратионовская is the cheapest. "
   ]
  },
  {
   "cell_type": "code",
   "execution_count": 18,
   "metadata": {},
   "outputs": [
    {
     "name": "stdout",
     "output_type": "stream",
     "text": [
      "                     metro\n",
      "Добрынинская  9.265433e+07\n",
      "                        metro\n",
      "Багратионовская -2.349638e+07\n"
     ]
    }
   ],
   "source": [
    "labels=X.columns\n",
    "values=reg.coef_\n",
    "metros=pd.DataFrame(values,index=labels)\n",
    "metros.columns=['metro']\n",
    "metros=metros.iloc[3:]\n",
    "metros=metros.sort_values('metro',ascending=False)\n",
    "print(metros.head(1))\n",
    "print(metros.tail(1))"
   ]
  },
  {
   "cell_type": "markdown",
   "metadata": {},
   "source": [
    "# Importing metro location data\n",
    "From [apidata.mos.ru](https://apidata.mos.ru) I was able to load the GPS coordinates for each metro station"
   ]
  },
  {
   "cell_type": "code",
   "execution_count": 19,
   "metadata": {},
   "outputs": [
    {
     "data": {
      "text/plain": [
       "200"
      ]
     },
     "execution_count": 19,
     "metadata": {},
     "output_type": "execute_result"
    }
   ],
   "source": [
    "result=requests.get('https://apidata.mos.ru/v1/datasets/624/features?api_key=**************************')"
   ]
  },
  {
   "cell_type": "markdown",
   "metadata": {},
   "source": [
    "## Unpacking the json data\n",
    "Now I have a new dataframe that has the name of the metro station with it's GSP location"
   ]
  },
  {
   "cell_type": "code",
   "execution_count": 23,
   "metadata": {},
   "outputs": [
    {
     "data": {
      "text/html": [
       "<div>\n",
       "<style scoped>\n",
       "    .dataframe tbody tr th:only-of-type {\n",
       "        vertical-align: middle;\n",
       "    }\n",
       "\n",
       "    .dataframe tbody tr th {\n",
       "        vertical-align: top;\n",
       "    }\n",
       "\n",
       "    .dataframe thead th {\n",
       "        text-align: right;\n",
       "    }\n",
       "</style>\n",
       "<table border=\"1\" class=\"dataframe\">\n",
       "  <thead>\n",
       "    <tr style=\"text-align: right;\">\n",
       "      <th></th>\n",
       "      <th>lat</th>\n",
       "      <th>long</th>\n",
       "    </tr>\n",
       "    <tr>\n",
       "      <th>name</th>\n",
       "      <th></th>\n",
       "      <th></th>\n",
       "    </tr>\n",
       "  </thead>\n",
       "  <tbody>\n",
       "    <tr>\n",
       "      <th>Китай-город</th>\n",
       "      <td>37.631677</td>\n",
       "      <td>55.757315</td>\n",
       "    </tr>\n",
       "    <tr>\n",
       "      <th>Калужская</th>\n",
       "      <td>37.539238</td>\n",
       "      <td>55.655386</td>\n",
       "    </tr>\n",
       "  </tbody>\n",
       "</table>\n",
       "</div>"
      ],
      "text/plain": [
       "                   lat       long\n",
       "name                             \n",
       "Китай-город  37.631677  55.757315\n",
       "Калужская    37.539238  55.655386"
      ]
     },
     "execution_count": 23,
     "metadata": {},
     "output_type": "execute_result"
    }
   ],
   "source": [
    "j=result.text\n",
    "data=json.loads(j)\n",
    "features=data['features']\n",
    "locations=[]\n",
    "names=[]\n",
    "for station in features:\n",
    "    locations.append(station['geometry']['coordinates'])\n",
    "    names.append(station['properties']['Attributes']['Name'])\n",
    "stations=pd.DataFrame({'geo':locations,'name':names})\n",
    "for i,r in stations.iterrows():\n",
    "    full_name=r[1]\n",
    "    name=full_name.split(',')\n",
    "    name=name[0]\n",
    "    stations.iloc[i,1]=name\n",
    "stations=stations.drop_duplicates(subset=['name'])\n",
    "lat=[]\n",
    "long=[]\n",
    "for i,r in stations.iterrows():\n",
    "    coor=str(r[0])\n",
    "    coors=coor.split(',')\n",
    "    coors[0]=coors[0].replace('[','')\n",
    "    coors[1]=coors[1].replace(']','')\n",
    "    lat.append(float(coors[0]))\n",
    "    long.append(float(coors[1]))\n",
    "stations['lat']=lat\n",
    "stations['long']=long\n",
    "stations=stations.drop('geo',axis=1)\n",
    "stations.index=stations.name\n",
    "stations=stations.drop('name',axis=1)\n",
    "stations.head(2)"
   ]
  },
  {
   "cell_type": "markdown",
   "metadata": {},
   "source": [
    "## Joining the datasets\n",
    "I've also made a new column called value. I divided the metro station into 4 groups based off of their coeifficents. The tops 25% will have a value of 1 and the bottom 25% will have a value of 4. "
   ]
  },
  {
   "cell_type": "code",
   "execution_count": 24,
   "metadata": {},
   "outputs": [],
   "source": [
    "final=metros.join(stations, how='inner')\n",
    "final['value']=0\n",
    "final.iloc[:33,3]=1\n",
    "final.iloc[33:66,3]=2\n",
    "final.iloc[66:99,3]=3\n",
    "final.iloc[99:,3]=4"
   ]
  },
  {
   "cell_type": "markdown",
   "metadata": {},
   "source": [
    "## Plotting the results\n",
    "The metro stations that are closest to the center of Moscow are generally more expensive while the further from the center is cheaper."
   ]
  },
  {
   "cell_type": "code",
   "execution_count": 26,
   "metadata": {},
   "outputs": [
    {
     "data": {
      "image/png": "[encoded data removed]",
      "text/plain": [
       "<Figure size 720x576 with 1 Axes>"
      ]
     },
     "metadata": {
      "needs_background": "light"
     },
     "output_type": "display_data"
    }
   ],
   "source": [
    "fig, ax = plt.subplots()\n",
    "fig.set_size_inches(10,8)\n",
    "scatter=ax.scatter(final.lat,final.long,s=75,c=final.value, cmap='jet',alpha=0.5)\n",
    "legend1=ax.legend(*scatter.legend_elements(),\n",
    "                 loc='upper right',title='Price Level')\n",
    "ax.add_artist(legend1)\n",
    "ax.set_title('Metro Stations\\n 1=expensive, 4=cheap',size=15)\n",
    "plt.axis('off')\n",
    "plt.show()"
   ]
  },
  {
   "cell_type": "markdown",
   "metadata": {},
   "source": [
    "## Closing remarks\n",
    "Many metro stations have a small number observations. Indeed, not every metro station made it into the dataset. For this project to be more meaningful there needs to be a lot more data collected.  "
   ]
  }
 ],
 "metadata": {
  "kernelspec": {
   "display_name": "Python 3.7 (tensorflow)",
   "language": "python",
   "name": "tensorflow"
  },
  "language_info": {
   "codemirror_mode": {
    "name": "ipython",
    "version": 3
   },
   "file_extension": ".py",
   "mimetype": "text/x-python",
   "name": "python",
   "nbconvert_exporter": "python",
   "pygments_lexer": "ipython3",
   "version": "3.7.7"
  }
 },
 "nbformat": 4,
 "nbformat_minor": 4
}
