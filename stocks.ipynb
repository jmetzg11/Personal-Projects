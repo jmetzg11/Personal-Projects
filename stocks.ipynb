{
 "cells": [
  {
   "cell_type": "markdown",
   "metadata": {},
   "source": [
    "# Speculation Strategy\n",
    "The following is a strategy to choose what stocks to buy. The theory of the strategy works off the assumptions that the stock market moves at a random walk, that prices return to their mean, and that the stock market is forever growing. There will be three stages where we start with a complete list of stocks and after each stage stocks will be eliminated until there is relatively small list of stocks to focus on. "
   ]
  },
  {
   "cell_type": "markdown",
   "metadata": {},
   "source": [
    "## Libraries needed"
   ]
  },
  {
   "cell_type": "code",
   "execution_count": 279,
   "metadata": {},
   "outputs": [],
   "source": [
    "import pandas as pd\n",
    "from datetime import date\n",
    "import numpy as np\n",
    "from pandas_datareader import data as web\n",
    "from selenium import webdriver\n",
    "import time"
   ]
  },
  {
   "cell_type": "markdown",
   "metadata": {},
   "source": [
    "## Data\n",
    "From [eooddata.com](https://eoddata.com/myaccount/default.aspx) I am able to import the closing prices from various stock markets. For this example we'll be using the closing prices of the New York Stock Exchange on the 21st and 28th of August of 2020."
   ]
  },
  {
   "cell_type": "code",
   "execution_count": 137,
   "metadata": {},
   "outputs": [],
   "source": [
    "colnames=['ticker','no','no_1','no_2','no_3','close','no_4'] #various columns will be ignored \n",
    "one=pd.read_csv('NYSE_20200821.txt',names=colnames,header=None)\n",
    "two=pd.read_csv('NYSE_20200828.txt',names=colnames,header=None)\n",
    "one=one[['ticker','close']]\n",
    "two=two[['ticker','close']]\n",
    "one=one.rename(columns={'close':'close_1'})\n",
    "two=two.rename(columns={'close':'close_2'})"
   ]
  },
  {
   "cell_type": "markdown",
   "metadata": {},
   "source": [
    "## Stocks prices that fell over the week (stage 1)\n",
    "The first stage is to find stocks prices that fell over the past week. The idea being that these stocks could be good picks because of their lower price. I chose stocks that fell at least 2%. "
   ]
  },
  {
   "cell_type": "code",
   "execution_count": 255,
   "metadata": {},
   "outputs": [
    {
     "data": {
      "text/html": [
       "<div>\n",
       "<style scoped>\n",
       "    .dataframe tbody tr th:only-of-type {\n",
       "        vertical-align: middle;\n",
       "    }\n",
       "\n",
       "    .dataframe tbody tr th {\n",
       "        vertical-align: top;\n",
       "    }\n",
       "\n",
       "    .dataframe thead th {\n",
       "        text-align: right;\n",
       "    }\n",
       "</style>\n",
       "<table border=\"1\" class=\"dataframe\">\n",
       "  <thead>\n",
       "    <tr style=\"text-align: right;\">\n",
       "      <th></th>\n",
       "      <th>ticker</th>\n",
       "      <th>percent_change</th>\n",
       "      <th>RSI</th>\n",
       "    </tr>\n",
       "  </thead>\n",
       "  <tbody>\n",
       "    <tr>\n",
       "      <th>0</th>\n",
       "      <td>ACH</td>\n",
       "      <td>-4.654655</td>\n",
       "      <td>0</td>\n",
       "    </tr>\n",
       "    <tr>\n",
       "      <th>1</th>\n",
       "      <td>ACI</td>\n",
       "      <td>-3.624161</td>\n",
       "      <td>0</td>\n",
       "    </tr>\n",
       "  </tbody>\n",
       "</table>\n",
       "</div>"
      ],
      "text/plain": [
       "  ticker  percent_change  RSI\n",
       "0    ACH       -4.654655    0\n",
       "1    ACI       -3.624161    0"
      ]
     },
     "execution_count": 255,
     "metadata": {},
     "output_type": "execute_result"
    }
   ],
   "source": [
    "stocks=pd.merge(one,two,on='ticker')\n",
    "stocks['percent_change']=((stocks.close_2-stocks.close_1)/stocks.close_1)*100\n",
    "stocks=stocks[['ticker','percent_change']]\n",
    "stocks=stocks[stocks.percent_change<-2] #stocks that fell 2%\n",
    "stocks=stocks.reset_index(drop=True)\n",
    "stocks['RSI']=0 #part of stage 2\n",
    "stocks.head(2)"
   ]
  },
  {
   "cell_type": "markdown",
   "metadata": {},
   "source": [
    "After the first stage we went from over 3 thousand tickers to 332."
   ]
  },
  {
   "cell_type": "code",
   "execution_count": 256,
   "metadata": {},
   "outputs": [
    {
     "name": "stdout",
     "output_type": "stream",
     "text": [
      "3089\n",
      "3109\n",
      "332\n"
     ]
    }
   ],
   "source": [
    "print(len(one))\n",
    "print(len(two))\n",
    "print(len(stocks))"
   ]
  },
  {
   "cell_type": "markdown",
   "metadata": {},
   "source": [
    "## Relative Strength Index (stage 2)\n",
    "The Relative Strength Index (RSI) is a financial indicator that measures its current price behavior against a past period. I chose 14 days as a period. If a stock is sold at a higher rate than its previous period than it can be considered to be oversold and will have a low RSI score. [Yahoo Finance](https://finance.yahoo.com/) allows for remote acces to the closing prices of many different stocks. From these historical closing prices we can compute the RSI. "
   ]
  },
  {
   "cell_type": "code",
   "execution_count": 262,
   "metadata": {
    "scrolled": false
   },
   "outputs": [
    {
     "name": "stdout",
     "output_type": "stream",
     "text": [
      "Ex: No data fetched for symbol ACP using YahooDailyReader\n",
      "Ex: No data fetched for symbol AEE using YahooDailyReader\n",
      "Ex: index out of bounds\n",
      "Ex: No data fetched for symbol AHL-C using YahooDailyReader\n",
      "Ex: No data fetched for symbol AHL-D using YahooDailyReader\n",
      "Ex: No data fetched for symbol AHL-E using YahooDailyReader\n",
      "Ex: No data fetched for symbol AHT-D using YahooDailyReader\n",
      "Ex: No data fetched for symbol AHT-F using YahooDailyReader\n",
      "Ex: No data fetched for symbol AHT-H using YahooDailyReader\n",
      "Ex: No data fetched for symbol AHT-I using YahooDailyReader\n",
      "Ex: No data fetched for symbol AIG.W using YahooDailyReader\n",
      "Ex: No data fetched for symbol AKO.A using YahooDailyReader\n",
      "Ex: No data fetched for symbol AKO.B using YahooDailyReader\n",
      "Ex: No data fetched for symbol ALI-A using YahooDailyReader\n",
      "Ex: No data fetched for symbol ALL-H using YahooDailyReader\n",
      "Ex: No data fetched for symbol ALT.W using YahooDailyReader\n",
      "Ex: No data fetched for symbol AMRX using YahooDailyReader\n",
      "Ex: No data fetched for symbol APRN using YahooDailyReader\n",
      "Ex: index out of bounds\n",
      "Ex: index out of bounds\n",
      "Ex: index out of bounds\n",
      "Ex: No data fetched for symbol BDX using YahooDailyReader\n",
      "Ex: index out of bounds\n",
      "Ex: No data fetched for symbol BIO using YahooDailyReader\n",
      "Ex: 'Date'\n",
      "Ex: No data fetched for symbol BSAC using YahooDailyReader\n",
      "Ex: index out of bounds\n",
      "Ex: No data fetched for symbol CCX.U using YahooDailyReader\n",
      "Ex: No data fetched for symbol CDR-B using YahooDailyReader\n",
      "Ex: No data fetched for symbol CDR-C using YahooDailyReader\n",
      "Ex: index out of bounds\n",
      "Ex: No data fetched for symbol CFG-D using YahooDailyReader\n",
      "Ex: No data fetched for symbol CLN-G using YahooDailyReader\n",
      "Ex: No data fetched for symbol CLN-H using YahooDailyReader\n",
      "Ex: No data fetched for symbol CLN-I using YahooDailyReader\n",
      "Ex: No data fetched for symbol CLN-J using YahooDailyReader\n",
      "Ex: No data fetched for symbol CNC using YahooDailyReader\n",
      "Ex: index out of bounds\n",
      "Ex: No data fetched for symbol CNR using YahooDailyReader\n",
      "Ex: No data fetched for symbol CRD.A using YahooDailyReader\n",
      "Ex: 'Date'\n",
      "Ex: index out of bounds\n",
      "Ex: No data fetched for symbol DCP-B using YahooDailyReader\n",
      "Ex: No data fetched for symbol DFN.W using YahooDailyReader\n",
      "Ex: No data fetched for symbol DGX using YahooDailyReader\n",
      "Ex: No data fetched for symbol DLNG using YahooDailyReader\n",
      "Ex: No data fetched for symbol DNOW using YahooDailyReader\n",
      "Ex: index out of bounds\n",
      "Ex: No data fetched for symbol DS-D using YahooDailyReader\n",
      "Ex: No data fetched for symbol ECOM using YahooDailyReader\n",
      "Ex: index out of bounds\n",
      "Ex: index out of bounds\n",
      "Ex: No data fetched for symbol FVRR using YahooDailyReader\n",
      "Ex: No data fetched for symbol GDV-A using YahooDailyReader\n",
      "Ex: 'Date'\n",
      "Ex: index out of bounds\n",
      "Ex: No data fetched for symbol GNW using YahooDailyReader\n",
      "Ex: No data fetched for symbol GSA.W using YahooDailyReader\n",
      "Ex: index out of bounds\n",
      "Ex: No data fetched for symbol HIG-G using YahooDailyReader\n",
      "Ex: No data fetched for symbol HII using YahooDailyReader\n",
      "Ex: index out of bounds\n",
      "Ex: No data fetched for symbol HYB using YahooDailyReader\n",
      "Ex: No data fetched for symbol IPI using YahooDailyReader\n",
      "Ex: index out of bounds\n",
      "Ex: No data fetched for symbol KEY-I using YahooDailyReader\n",
      "Ex: No data fetched for symbol LAD using YahooDailyReader\n",
      "Ex: index out of bounds\n",
      "Ex: 'Date'\n",
      "Ex: No data fetched for symbol LGC.W using YahooDailyReader\n",
      "Ex: No data fetched for symbol LGV.W using YahooDailyReader\n",
      "Ex: No data fetched for symbol LL using YahooDailyReader\n",
      "Ex: No data fetched for symbol LRN using YahooDailyReader\n",
      "Ex: index out of bounds\n",
      "Ex: No data fetched for symbol MH-A using YahooDailyReader\n",
      "Ex: No data fetched for symbol MIT-A using YahooDailyReader\n",
      "Ex: No data fetched for symbol MIT-B using YahooDailyReader\n",
      "Ex: No data fetched for symbol MIT-C using YahooDailyReader\n",
      "Ex: No data fetched for symbol MYC using YahooDailyReader\n",
      "Ex: index out of bounds\n",
      "Ex: No data fetched for symbol NEW using YahooDailyReader\n",
      "Ex: No data fetched for symbol NGS using YahooDailyReader\n",
      "Ex: No data fetched for symbol NI-B using YahooDailyReader\n",
      "Ex: No data fetched for symbol NM-G using YahooDailyReader\n",
      "Ex: index out of bounds\n",
      "Ex: No data fetched for symbol NS-A using YahooDailyReader\n",
      "Ex: No data fetched for symbol NS-B using YahooDailyReader\n",
      "Ex: No data fetched for symbol NYC using YahooDailyReader\n",
      "Ex: No data fetched for symbol ORN using YahooDailyReader\n",
      "Ex: index out of bounds\n",
      "Ex: No data fetched for symbol PCP.W using YahooDailyReader\n",
      "Ex: No data fetched for symbol PSA-G using YahooDailyReader\n",
      "Ex: No data fetched for symbol SBH using YahooDailyReader\n",
      "Ex: index out of bounds\n",
      "Ex: No data fetched for symbol SHLX using YahooDailyReader\n",
      "Ex: index out of bounds\n",
      "Ex: No data fetched for symbol SKY using YahooDailyReader\n",
      "Ex: No data fetched for symbol SLQT using YahooDailyReader\n",
      "Ex: No data fetched for symbol SMLP using YahooDailyReader\n",
      "Ex: No data fetched for symbol SRE-A using YahooDailyReader\n",
      "Ex: No data fetched for symbol STT-D using YahooDailyReader\n",
      "Ex: No data fetched for symbol TCP using YahooDailyReader\n",
      "Ex: 'Date'\n",
      "Ex: No data fetched for symbol TEF using YahooDailyReader\n",
      "Ex: index out of bounds\n",
      "Ex: No data fetched for symbol TMHC using YahooDailyReader\n",
      "Ex: index out of bounds\n",
      "Ex: No data fetched for symbol TNP-D using YahooDailyReader\n",
      "Ex: No data fetched for symbol TNP-E using YahooDailyReader\n",
      "Ex: index out of bounds\n",
      "Ex: index out of bounds\n",
      "Ex: index out of bounds\n",
      "Ex: No data fetched for symbol USB-H using YahooDailyReader\n",
      "Ex: index out of bounds\n",
      "Ex: No data fetched for symbol VVN.W using YahooDailyReader\n",
      "Ex: No data fetched for symbol WBS-F using YahooDailyReader\n",
      "Ex: index out of bounds\n",
      "Ex: No data fetched for symbol WPG-H using YahooDailyReader\n",
      "Ex: No data fetched for symbol WPG-I using YahooDailyReader\n",
      "Ex: No data fetched for symbol XAN-C using YahooDailyReader\n"
     ]
    }
   ],
   "source": [
    "start = date(2020,3,1)\n",
    "for i,r in stocks.iterrows():\n",
    "    name=r[0]\n",
    "    try:\n",
    "        ticker=web.DataReader(name,'yahoo',start=start)\n",
    "        delta=ticker['Adj Close'].diff(1)\n",
    "        delta=delta.dropna()\n",
    "        up=delta.copy()\n",
    "        down=delta.copy()\n",
    "        up[up<0]=0\n",
    "        down[down>0]=0\n",
    "        period=14\n",
    "        AVG_Gain=up.rolling(window=period).mean()\n",
    "        AVG_Loss=abs(down.rolling(window=period).mean())\n",
    "        RS = AVG_Gain/AVG_Loss\n",
    "        RSI=100.0-(100.0/(1.0+RS))\n",
    "        stocks.iloc[i,2]=RSI[-1]\n",
    "    except Exception as ex:\n",
    "        print('Ex:', ex)"
   ]
  },
  {
   "cell_type": "markdown",
   "metadata": {},
   "source": [
    "## Ticker elimination\n",
    "From various errors (printed above) while accessing Yahoo and only keeping stocks that have an RSI under 40 we reduced our list to 121 stocks. "
   ]
  },
  {
   "cell_type": "code",
   "execution_count": 263,
   "metadata": {
    "scrolled": true
   },
   "outputs": [
    {
     "data": {
      "text/plain": [
       "121"
      ]
     },
     "execution_count": 263,
     "metadata": {},
     "output_type": "execute_result"
    }
   ],
   "source": [
    "stocks=stocks[(stocks.RSI!=0.0) & (stocks.RSI<40)] \n",
    "len(stocks)"
   ]
  },
  {
   "cell_type": "code",
   "execution_count": 269,
   "metadata": {},
   "outputs": [
    {
     "data": {
      "text/html": [
       "<div>\n",
       "<style scoped>\n",
       "    .dataframe tbody tr th:only-of-type {\n",
       "        vertical-align: middle;\n",
       "    }\n",
       "\n",
       "    .dataframe tbody tr th {\n",
       "        vertical-align: top;\n",
       "    }\n",
       "\n",
       "    .dataframe thead th {\n",
       "        text-align: right;\n",
       "    }\n",
       "</style>\n",
       "<table border=\"1\" class=\"dataframe\">\n",
       "  <thead>\n",
       "    <tr style=\"text-align: right;\">\n",
       "      <th></th>\n",
       "      <th>ticker</th>\n",
       "      <th>percent_change</th>\n",
       "      <th>RSI</th>\n",
       "      <th>news</th>\n",
       "    </tr>\n",
       "  </thead>\n",
       "  <tbody>\n",
       "    <tr>\n",
       "      <th>0</th>\n",
       "      <td>VMC</td>\n",
       "      <td>-2.336486</td>\n",
       "      <td>9.535437</td>\n",
       "      <td>0</td>\n",
       "    </tr>\n",
       "    <tr>\n",
       "      <th>1</th>\n",
       "      <td>UTI</td>\n",
       "      <td>-2.035278</td>\n",
       "      <td>10.937434</td>\n",
       "      <td>0</td>\n",
       "    </tr>\n",
       "  </tbody>\n",
       "</table>\n",
       "</div>"
      ],
      "text/plain": [
       "  ticker  percent_change        RSI  news\n",
       "0    VMC       -2.336486   9.535437     0\n",
       "1    UTI       -2.035278  10.937434     0"
      ]
     },
     "execution_count": 269,
     "metadata": {},
     "output_type": "execute_result"
    }
   ],
   "source": [
    "stocks=stocks.sort_values(by='RSI')\n",
    "stocks['news']=0\n",
    "stocks=stocks.reset_index(drop=True)\n",
    "stocks.head(2)"
   ]
  },
  {
   "cell_type": "markdown",
   "metadata": {},
   "source": [
    "MTL.P was removed because the stock was not found on the site used for stage 3"
   ]
  },
  {
   "cell_type": "code",
   "execution_count": 285,
   "metadata": {},
   "outputs": [
    {
     "data": {
      "text/plain": [
       "120"
      ]
     },
     "execution_count": 285,
     "metadata": {},
     "output_type": "execute_result"
    }
   ],
   "source": [
    "stocks=stocks[stocks.ticker != 'MTL.P']\n",
    "stocks=stocks.reset_index(drop=True)\n",
    "len(stocks)"
   ]
  },
  {
   "cell_type": "markdown",
   "metadata": {},
   "source": [
    "## Market sentiment (stage 3)\n",
    "One reason that a stock might have fell in price is because of bad news. We would want to avoid these stocks because they are unlikely to grow after bad news. [IBM](https://discovery-news-demo.ng.bluemix.net/) developed a resource that quantifies the sentiment of a given company. Through web automation I will capture the negative score of the 120 remaining stocks. "
   ]
  },
  {
   "cell_type": "code",
   "execution_count": 286,
   "metadata": {},
   "outputs": [],
   "source": [
    "web = webdriver.Chrome()\n",
    "web.get('https://discovery-news-demo.ng.bluemix.net/')\n",
    "for i,r in stocks.iterrows():\n",
    "    ticker=r[0]\n",
    "    insert_ticker=web.find_element_by_xpath('/html/body/div[1]/div/div[2]/section/div/div[1]/div/label/input')\n",
    "    insert_ticker.send_keys(ticker)\n",
    "    search_button=web.find_element_by_xpath('/html/body/div[1]/div/div[2]/section/div/div[1]/div/button')\n",
    "    search_button.click()\n",
    "    time.sleep(4)\n",
    "    score=web.find_element_by_xpath('/html/body/div[1]/div/div[2]/div/div/div[2]/div/div/div/div[2]/div[2]/div[1]/div[1]').text\n",
    "    stocks.iloc[i,3]=score\n",
    "    web.get('https://discovery-news-demo.ng.bluemix.net/')"
   ]
  },
  {
   "cell_type": "code",
   "execution_count": 295,
   "metadata": {
    "scrolled": true
   },
   "outputs": [
    {
     "data": {
      "text/html": [
       "<div>\n",
       "<style scoped>\n",
       "    .dataframe tbody tr th:only-of-type {\n",
       "        vertical-align: middle;\n",
       "    }\n",
       "\n",
       "    .dataframe tbody tr th {\n",
       "        vertical-align: top;\n",
       "    }\n",
       "\n",
       "    .dataframe thead th {\n",
       "        text-align: right;\n",
       "    }\n",
       "</style>\n",
       "<table border=\"1\" class=\"dataframe\">\n",
       "  <thead>\n",
       "    <tr style=\"text-align: right;\">\n",
       "      <th></th>\n",
       "      <th>ticker</th>\n",
       "      <th>percent_change</th>\n",
       "      <th>RSI</th>\n",
       "      <th>news</th>\n",
       "    </tr>\n",
       "  </thead>\n",
       "  <tbody>\n",
       "    <tr>\n",
       "      <th>0</th>\n",
       "      <td>VMC</td>\n",
       "      <td>-2.336486</td>\n",
       "      <td>9.535437</td>\n",
       "      <td>25</td>\n",
       "    </tr>\n",
       "    <tr>\n",
       "      <th>1</th>\n",
       "      <td>UTI</td>\n",
       "      <td>-2.035278</td>\n",
       "      <td>10.937434</td>\n",
       "      <td>43</td>\n",
       "    </tr>\n",
       "  </tbody>\n",
       "</table>\n",
       "</div>"
      ],
      "text/plain": [
       "  ticker  percent_change        RSI  news\n",
       "0    VMC       -2.336486   9.535437    25\n",
       "1    UTI       -2.035278  10.937434    43"
      ]
     },
     "execution_count": 295,
     "metadata": {},
     "output_type": "execute_result"
    }
   ],
   "source": [
    "stocks['news']=stocks['news'].str.rstrip('%').astype('int')\n",
    "stocks.head(2)"
   ]
  },
  {
   "cell_type": "markdown",
   "metadata": {},
   "source": [
    "## Combining the RSI and News \n",
    "After creating and sorting our new indicator 'score' we can identify companies that had a sudden drop in price while not having much negative news in the headlines. The next step would be to investigate these companies individually and decide if you want to invest in them. "
   ]
  },
  {
   "cell_type": "code",
   "execution_count": 296,
   "metadata": {
    "scrolled": true
   },
   "outputs": [
    {
     "data": {
      "text/html": [
       "<div>\n",
       "<style scoped>\n",
       "    .dataframe tbody tr th:only-of-type {\n",
       "        vertical-align: middle;\n",
       "    }\n",
       "\n",
       "    .dataframe tbody tr th {\n",
       "        vertical-align: top;\n",
       "    }\n",
       "\n",
       "    .dataframe thead th {\n",
       "        text-align: right;\n",
       "    }\n",
       "</style>\n",
       "<table border=\"1\" class=\"dataframe\">\n",
       "  <thead>\n",
       "    <tr style=\"text-align: right;\">\n",
       "      <th></th>\n",
       "      <th>ticker</th>\n",
       "      <th>percent_change</th>\n",
       "      <th>RSI</th>\n",
       "      <th>news</th>\n",
       "      <th>score</th>\n",
       "    </tr>\n",
       "  </thead>\n",
       "  <tbody>\n",
       "    <tr>\n",
       "      <th>12</th>\n",
       "      <td>TRC</td>\n",
       "      <td>-2.169492</td>\n",
       "      <td>16.666636</td>\n",
       "      <td>8</td>\n",
       "      <td>24.666636</td>\n",
       "    </tr>\n",
       "    <tr>\n",
       "      <th>4</th>\n",
       "      <td>GTX</td>\n",
       "      <td>-50.598802</td>\n",
       "      <td>14.260871</td>\n",
       "      <td>12</td>\n",
       "      <td>26.260871</td>\n",
       "    </tr>\n",
       "    <tr>\n",
       "      <th>16</th>\n",
       "      <td>BSMX</td>\n",
       "      <td>-3.539823</td>\n",
       "      <td>19.672123</td>\n",
       "      <td>7</td>\n",
       "      <td>26.672123</td>\n",
       "    </tr>\n",
       "    <tr>\n",
       "      <th>9</th>\n",
       "      <td>JMIA</td>\n",
       "      <td>-4.900000</td>\n",
       "      <td>16.003789</td>\n",
       "      <td>13</td>\n",
       "      <td>29.003789</td>\n",
       "    </tr>\n",
       "    <tr>\n",
       "      <th>3</th>\n",
       "      <td>BFZ</td>\n",
       "      <td>-2.479942</td>\n",
       "      <td>13.124788</td>\n",
       "      <td>17</td>\n",
       "      <td>30.124788</td>\n",
       "    </tr>\n",
       "    <tr>\n",
       "      <th>48</th>\n",
       "      <td>LAIX</td>\n",
       "      <td>-12.547529</td>\n",
       "      <td>27.272725</td>\n",
       "      <td>6</td>\n",
       "      <td>33.272725</td>\n",
       "    </tr>\n",
       "    <tr>\n",
       "      <th>10</th>\n",
       "      <td>TPL</td>\n",
       "      <td>-3.786357</td>\n",
       "      <td>16.308633</td>\n",
       "      <td>17</td>\n",
       "      <td>33.308633</td>\n",
       "    </tr>\n",
       "    <tr>\n",
       "      <th>19</th>\n",
       "      <td>SWX</td>\n",
       "      <td>-4.309816</td>\n",
       "      <td>19.883772</td>\n",
       "      <td>14</td>\n",
       "      <td>33.883772</td>\n",
       "    </tr>\n",
       "    <tr>\n",
       "      <th>0</th>\n",
       "      <td>VMC</td>\n",
       "      <td>-2.336486</td>\n",
       "      <td>9.535437</td>\n",
       "      <td>25</td>\n",
       "      <td>34.535437</td>\n",
       "    </tr>\n",
       "    <tr>\n",
       "      <th>35</th>\n",
       "      <td>PACD</td>\n",
       "      <td>-3.297518</td>\n",
       "      <td>25.000003</td>\n",
       "      <td>13</td>\n",
       "      <td>38.000003</td>\n",
       "    </tr>\n",
       "    <tr>\n",
       "      <th>69</th>\n",
       "      <td>PEG</td>\n",
       "      <td>-2.102102</td>\n",
       "      <td>30.608712</td>\n",
       "      <td>8</td>\n",
       "      <td>38.608712</td>\n",
       "    </tr>\n",
       "    <tr>\n",
       "      <th>54</th>\n",
       "      <td>NPTN</td>\n",
       "      <td>-4.945055</td>\n",
       "      <td>27.667980</td>\n",
       "      <td>11</td>\n",
       "      <td>38.667980</td>\n",
       "    </tr>\n",
       "    <tr>\n",
       "      <th>97</th>\n",
       "      <td>AJX</td>\n",
       "      <td>-4.098361</td>\n",
       "      <td>34.500835</td>\n",
       "      <td>5</td>\n",
       "      <td>39.500835</td>\n",
       "    </tr>\n",
       "    <tr>\n",
       "      <th>14</th>\n",
       "      <td>VOC</td>\n",
       "      <td>-3.108434</td>\n",
       "      <td>17.857128</td>\n",
       "      <td>22</td>\n",
       "      <td>39.857128</td>\n",
       "    </tr>\n",
       "    <tr>\n",
       "      <th>43</th>\n",
       "      <td>MQY</td>\n",
       "      <td>-2.996942</td>\n",
       "      <td>26.177874</td>\n",
       "      <td>14</td>\n",
       "      <td>40.177874</td>\n",
       "    </tr>\n",
       "    <tr>\n",
       "      <th>6</th>\n",
       "      <td>BPT</td>\n",
       "      <td>-7.407407</td>\n",
       "      <td>14.606749</td>\n",
       "      <td>26</td>\n",
       "      <td>40.606749</td>\n",
       "    </tr>\n",
       "    <tr>\n",
       "      <th>31</th>\n",
       "      <td>LCII</td>\n",
       "      <td>-2.043161</td>\n",
       "      <td>24.013534</td>\n",
       "      <td>17</td>\n",
       "      <td>41.013534</td>\n",
       "    </tr>\n",
       "    <tr>\n",
       "      <th>60</th>\n",
       "      <td>CXH</td>\n",
       "      <td>-2.208526</td>\n",
       "      <td>29.233197</td>\n",
       "      <td>12</td>\n",
       "      <td>41.233197</td>\n",
       "    </tr>\n",
       "    <tr>\n",
       "      <th>95</th>\n",
       "      <td>BZM</td>\n",
       "      <td>-3.436426</td>\n",
       "      <td>34.386000</td>\n",
       "      <td>7</td>\n",
       "      <td>41.386000</td>\n",
       "    </tr>\n",
       "    <tr>\n",
       "      <th>59</th>\n",
       "      <td>PMX</td>\n",
       "      <td>-2.046036</td>\n",
       "      <td>29.175062</td>\n",
       "      <td>13</td>\n",
       "      <td>42.175062</td>\n",
       "    </tr>\n",
       "  </tbody>\n",
       "</table>\n",
       "</div>"
      ],
      "text/plain": [
       "   ticker  percent_change        RSI  news      score\n",
       "12    TRC       -2.169492  16.666636     8  24.666636\n",
       "4     GTX      -50.598802  14.260871    12  26.260871\n",
       "16   BSMX       -3.539823  19.672123     7  26.672123\n",
       "9    JMIA       -4.900000  16.003789    13  29.003789\n",
       "3     BFZ       -2.479942  13.124788    17  30.124788\n",
       "48   LAIX      -12.547529  27.272725     6  33.272725\n",
       "10    TPL       -3.786357  16.308633    17  33.308633\n",
       "19    SWX       -4.309816  19.883772    14  33.883772\n",
       "0     VMC       -2.336486   9.535437    25  34.535437\n",
       "35   PACD       -3.297518  25.000003    13  38.000003\n",
       "69    PEG       -2.102102  30.608712     8  38.608712\n",
       "54   NPTN       -4.945055  27.667980    11  38.667980\n",
       "97    AJX       -4.098361  34.500835     5  39.500835\n",
       "14    VOC       -3.108434  17.857128    22  39.857128\n",
       "43    MQY       -2.996942  26.177874    14  40.177874\n",
       "6     BPT       -7.407407  14.606749    26  40.606749\n",
       "31   LCII       -2.043161  24.013534    17  41.013534\n",
       "60    CXH       -2.208526  29.233197    12  41.233197\n",
       "95    BZM       -3.436426  34.386000     7  41.386000\n",
       "59    PMX       -2.046036  29.175062    13  42.175062"
      ]
     },
     "execution_count": 296,
     "metadata": {},
     "output_type": "execute_result"
    }
   ],
   "source": [
    "stocks['score']=stocks.RSI+stocks.news\n",
    "stocks=stocks.sort_values(by='score')\n",
    "stocks.head(20)"
   ]
  },
  {
   "cell_type": "markdown",
   "metadata": {},
   "source": [
    "## Closing remarks\n",
    "After trying this strategy for one month I was able to sell 20/34 of the stocks I bought with an average of return of 2.62%. However, the other 14 stocks fell so much that my overall average was -0.76%. Furtheremore, I wasted many hour monitoring my various bad investments. I do not recommend this strategy and at most it should be used as a supplement to a more successful strategy. \n",
    "\n",
    "Nevertheless, I'm proud that I was able nearly automate the whole process.    "
   ]
  }
 ],
 "metadata": {
  "kernelspec": {
   "display_name": "Python 3.7 (tensorflow)",
   "language": "python",
   "name": "tensorflow"
  },
  "language_info": {
   "codemirror_mode": {
    "name": "ipython",
    "version": 3
   },
   "file_extension": ".py",
   "mimetype": "text/x-python",
   "name": "python",
   "nbconvert_exporter": "python",
   "pygments_lexer": "ipython3",
   "version": "3.7.7"
  }
 },
 "nbformat": 4,
 "nbformat_minor": 4
}
