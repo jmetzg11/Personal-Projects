{
 "cells": [
  {
   "cell_type": "markdown",
   "metadata": {},
   "source": [
    "# City Migration\n",
    "While on [this](https://ru.wikipedia.org/wiki/%D0%A1%D0%BF%D0%B8%D1%81%D0%BE%D0%BA_%D0%B3%D0%BE%D1%80%D0%BE%D0%B4%D0%BE%D0%B2_%D0%A0%D0%BE%D1%81%D1%81%D0%B8%D0%B8_%D1%81_%D0%BD%D0%B0%D1%81%D0%B5%D0%BB%D0%B5%D0%BD%D0%B8%D0%B5%D0%BC_%D0%B1%D0%BE%D0%BB%D0%B5%D0%B5_100_%D1%82%D1%8B%D1%81%D1%8F%D1%87_%D0%B6%D0%B8%D1%82%D0%B5%D0%BB%D0%B5%D0%B9) wikipedia site I noticed an opportunity for a data science project. We can see the change in population from 2019 to 2020 in the 173 biggest cities in Russia. Can this be explained through data?"
   ]
  },
  {
   "cell_type": "markdown",
   "metadata": {},
   "source": [
    "## Libraries needed"
   ]
  },
  {
   "cell_type": "code",
   "execution_count": 1,
   "metadata": {},
   "outputs": [],
   "source": [
    "from bs4 import BeautifulSoup\n",
    "import requests \n",
    "import pandas as pd\n",
    "import matplotlib.pyplot as plt\n",
    "import cartopy\n",
    "import cartopy.crs as ccrs\n",
    "import cartopy.feature as cfeature\n",
    "%matplotlib inline\n",
    "from selenium import webdriver\n",
    "import time\n",
    "from selenium.webdriver.common.keys import Keys\n",
    "import re\n",
    "import seaborn as sns\n",
    "from sklearn.ensemble import RandomForestClassifier"
   ]
  },
  {
   "cell_type": "markdown",
   "metadata": {},
   "source": [
    "## Scraping the wikipedia table\n",
    "The first three rows of the wikipedia table."
   ]
  },
  {
   "cell_type": "code",
   "execution_count": 2,
   "metadata": {},
   "outputs": [
    {
     "data": {
      "text/html": [
       "<div>\n",
       "<style scoped>\n",
       "    .dataframe tbody tr th:only-of-type {\n",
       "        vertical-align: middle;\n",
       "    }\n",
       "\n",
       "    .dataframe tbody tr th {\n",
       "        vertical-align: top;\n",
       "    }\n",
       "\n",
       "    .dataframe thead tr th {\n",
       "        text-align: left;\n",
       "    }\n",
       "</style>\n",
       "<table border=\"1\" class=\"dataframe\">\n",
       "  <thead>\n",
       "    <tr>\n",
       "      <th></th>\n",
       "      <th colspan=\"2\" halign=\"left\">№</th>\n",
       "      <th>Город</th>\n",
       "      <th colspan=\"18\" halign=\"left\">Население, тыс. человек</th>\n",
       "    </tr>\n",
       "    <tr>\n",
       "      <th></th>\n",
       "      <th>Unnamed: 0_level_1</th>\n",
       "      <th>в1897[16]</th>\n",
       "      <th>Город</th>\n",
       "      <th>1897</th>\n",
       "      <th>1926</th>\n",
       "      <th>1939</th>\n",
       "      <th>1959</th>\n",
       "      <th>1970</th>\n",
       "      <th>1979</th>\n",
       "      <th>1989</th>\n",
       "      <th>...</th>\n",
       "      <th>2011</th>\n",
       "      <th>2012</th>\n",
       "      <th>2013</th>\n",
       "      <th>2014</th>\n",
       "      <th>2015</th>\n",
       "      <th>2016</th>\n",
       "      <th>2017</th>\n",
       "      <th>2018</th>\n",
       "      <th>2019</th>\n",
       "      <th>2020</th>\n",
       "    </tr>\n",
       "  </thead>\n",
       "  <tbody>\n",
       "    <tr>\n",
       "      <th>0</th>\n",
       "      <td>1</td>\n",
       "      <td>2</td>\n",
       "      <td>Москва[17]</td>\n",
       "      <td>1039</td>\n",
       "      <td>2080</td>\n",
       "      <td>4609</td>\n",
       "      <td>6133</td>\n",
       "      <td>7194</td>\n",
       "      <td>8057</td>\n",
       "      <td>8878</td>\n",
       "      <td>...</td>\n",
       "      <td>11541</td>\n",
       "      <td>11613</td>\n",
       "      <td>11980</td>\n",
       "      <td>12108</td>\n",
       "      <td>12198</td>\n",
       "      <td>12330</td>\n",
       "      <td>12381</td>\n",
       "      <td>12506</td>\n",
       "      <td>12615</td>\n",
       "      <td>12678</td>\n",
       "    </tr>\n",
       "    <tr>\n",
       "      <th>1</th>\n",
       "      <td>2</td>\n",
       "      <td>1</td>\n",
       "      <td>Санкт-Петербург</td>\n",
       "      <td>1265</td>\n",
       "      <td>1737</td>\n",
       "      <td>3431</td>\n",
       "      <td>3390</td>\n",
       "      <td>4033</td>\n",
       "      <td>4569</td>\n",
       "      <td>4989</td>\n",
       "      <td>...</td>\n",
       "      <td>4899</td>\n",
       "      <td>4953</td>\n",
       "      <td>5028</td>\n",
       "      <td>5132</td>\n",
       "      <td>5192</td>\n",
       "      <td>5226</td>\n",
       "      <td>5282</td>\n",
       "      <td>5352</td>\n",
       "      <td>5384</td>\n",
       "      <td>5398</td>\n",
       "    </tr>\n",
       "    <tr>\n",
       "      <th>2</th>\n",
       "      <td>3</td>\n",
       "      <td>NaN</td>\n",
       "      <td>Новосибирск</td>\n",
       "      <td>8</td>\n",
       "      <td>120</td>\n",
       "      <td>404</td>\n",
       "      <td>885</td>\n",
       "      <td>1161</td>\n",
       "      <td>1309</td>\n",
       "      <td>1420</td>\n",
       "      <td>...</td>\n",
       "      <td>1475</td>\n",
       "      <td>1499</td>\n",
       "      <td>1524</td>\n",
       "      <td>1548</td>\n",
       "      <td>1567</td>\n",
       "      <td>1584</td>\n",
       "      <td>1603</td>\n",
       "      <td>1613</td>\n",
       "      <td>1618</td>\n",
       "      <td>1626</td>\n",
       "    </tr>\n",
       "  </tbody>\n",
       "</table>\n",
       "<p>3 rows × 22 columns</p>\n",
       "</div>"
      ],
      "text/plain": [
       "                   №                      Город Население, тыс. человек        \\\n",
       "  Unnamed: 0_level_1 в1897[16]            Город                    1897  1926   \n",
       "0                  1         2       Москва[17]                    1039  2080   \n",
       "1                  2         1  Санкт-Петербург                    1265  1737   \n",
       "2                  3       NaN      Новосибирск                       8   120   \n",
       "\n",
       "                                 ...                                     \\\n",
       "   1939  1959  1970  1979  1989  ...   2011   2012   2013   2014   2015   \n",
       "0  4609  6133  7194  8057  8878  ...  11541  11613  11980  12108  12198   \n",
       "1  3431  3390  4033  4569  4989  ...   4899   4953   5028   5132   5192   \n",
       "2   404   885  1161  1309  1420  ...   1475   1499   1524   1548   1567   \n",
       "\n",
       "                                      \n",
       "    2016   2017   2018   2019   2020  \n",
       "0  12330  12381  12506  12615  12678  \n",
       "1   5226   5282   5352   5384   5398  \n",
       "2   1584   1603   1613   1618   1626  \n",
       "\n",
       "[3 rows x 22 columns]"
      ]
     },
     "execution_count": 2,
     "metadata": {},
     "output_type": "execute_result"
    }
   ],
   "source": [
    "wiki_url='https://ru.wikipedia.org/wiki/%D0%A1%D0%BF%D0%B8%D1%81%D0%BE%D0%BA_%D0%B3%D0%BE%D1%80%D0%BE%D0%B4%D0%BE%D0%B2_%D0%A0%D0%BE%D1%81%D1%81%D0%B8%D0%B8_%D1%81_%D0%BD%D0%B0%D1%81%D0%B5%D0%BB%D0%B5%D0%BD%D0%B8%D0%B5%D0%BC_%D0%B1%D0%BE%D0%BB%D0%B5%D0%B5_100_%D1%82%D1%8B%D1%81%D1%8F%D1%87_%D0%B6%D0%B8%D1%82%D0%B5%D0%BB%D0%B5%D0%B9'\n",
    "table_class=\"wikitable sortable jquery-tablesorter\"\n",
    "response = requests.get(wiki_url)\n",
    "soup=BeautifulSoup(response.text, 'html.parser')\n",
    "city_table=soup.find('table', {'class': 'wikitable sortable'})\n",
    "df=pd.read_html(str(city_table))\n",
    "df=df[0]\n",
    "df=pd.DataFrame(df)\n",
    "df.head(3)"
   ]
  },
  {
   "cell_type": "markdown",
   "metadata": {},
   "source": [
    "## Elimination of extra columns\n",
    "Keeping the columns that I'm interested in and renaming them."
   ]
  },
  {
   "cell_type": "code",
   "execution_count": 3,
   "metadata": {
    "scrolled": true
   },
   "outputs": [
    {
     "data": {
      "text/html": [
       "<div>\n",
       "<style scoped>\n",
       "    .dataframe tbody tr th:only-of-type {\n",
       "        vertical-align: middle;\n",
       "    }\n",
       "\n",
       "    .dataframe tbody tr th {\n",
       "        vertical-align: top;\n",
       "    }\n",
       "\n",
       "    .dataframe thead th {\n",
       "        text-align: right;\n",
       "    }\n",
       "</style>\n",
       "<table border=\"1\" class=\"dataframe\">\n",
       "  <thead>\n",
       "    <tr style=\"text-align: right;\">\n",
       "      <th></th>\n",
       "      <th>city</th>\n",
       "      <th>19</th>\n",
       "      <th>20</th>\n",
       "    </tr>\n",
       "  </thead>\n",
       "  <tbody>\n",
       "    <tr>\n",
       "      <th>0</th>\n",
       "      <td>Москва[17]</td>\n",
       "      <td>12615</td>\n",
       "      <td>12678</td>\n",
       "    </tr>\n",
       "    <tr>\n",
       "      <th>1</th>\n",
       "      <td>Санкт-Петербург</td>\n",
       "      <td>5384</td>\n",
       "      <td>5398</td>\n",
       "    </tr>\n",
       "    <tr>\n",
       "      <th>2</th>\n",
       "      <td>Новосибирск</td>\n",
       "      <td>1618</td>\n",
       "      <td>1626</td>\n",
       "    </tr>\n",
       "  </tbody>\n",
       "</table>\n",
       "</div>"
      ],
      "text/plain": [
       "              city     19     20\n",
       "0       Москва[17]  12615  12678\n",
       "1  Санкт-Петербург   5384   5398\n",
       "2      Новосибирск   1618   1626"
      ]
     },
     "execution_count": 3,
     "metadata": {},
     "output_type": "execute_result"
    }
   ],
   "source": [
    "city=pd.DataFrame(df.iloc[:,2])\n",
    "years=df.iloc[:,-2:]\n",
    "df=pd.concat([city,years], axis=1)\n",
    "df.columns=['city','19','20']\n",
    "df.head(3)"
   ]
  },
  {
   "cell_type": "markdown",
   "metadata": {},
   "source": [
    "## City names\n",
    "Eight of the city names have many extra characters that will need to be cleaned. "
   ]
  },
  {
   "cell_type": "code",
   "execution_count": 4,
   "metadata": {},
   "outputs": [
    {
     "name": "stdout",
     "output_type": "stream",
     "text": [
      "Москва[17]\n",
      "Балашиха[18]\n",
      "Севастополь[Крым 1][19]\n",
      "Симферополь[Крым 1][19]\n",
      "Подольск[20]\n",
      "Королёв[21]\n",
      "Керчь[Крым 1][19]\n",
      "Евпатория[Крым 1][19]\n"
     ]
    }
   ],
   "source": [
    "for city in df.city:\n",
    "    if '[' in city:\n",
    "        print(city)"
   ]
  },
  {
   "cell_type": "markdown",
   "metadata": {},
   "source": [
    "## Cleaning the city names"
   ]
  },
  {
   "cell_type": "code",
   "execution_count": 5,
   "metadata": {},
   "outputs": [],
   "source": [
    "for index,row in df.iterrows():\n",
    "    city=row[0]\n",
    "    if '[' in city:\n",
    "        city=city.split('[')[0]\n",
    "        df.iloc[index,0]=city"
   ]
  },
  {
   "cell_type": "markdown",
   "metadata": {},
   "source": [
    "## Creating a 'percent change' column\n",
    "Since cities vary in size and I'm only concerned with the inflow and outflow of citizens I made a columns that shows by what percent a city grew or shrunk in size. "
   ]
  },
  {
   "cell_type": "code",
   "execution_count": 6,
   "metadata": {},
   "outputs": [
    {
     "data": {
      "text/html": [
       "<div>\n",
       "<style scoped>\n",
       "    .dataframe tbody tr th:only-of-type {\n",
       "        vertical-align: middle;\n",
       "    }\n",
       "\n",
       "    .dataframe tbody tr th {\n",
       "        vertical-align: top;\n",
       "    }\n",
       "\n",
       "    .dataframe thead th {\n",
       "        text-align: right;\n",
       "    }\n",
       "</style>\n",
       "<table border=\"1\" class=\"dataframe\">\n",
       "  <thead>\n",
       "    <tr style=\"text-align: right;\">\n",
       "      <th></th>\n",
       "      <th>city</th>\n",
       "      <th>19</th>\n",
       "      <th>20</th>\n",
       "      <th>percent_change</th>\n",
       "    </tr>\n",
       "  </thead>\n",
       "  <tbody>\n",
       "    <tr>\n",
       "      <th>0</th>\n",
       "      <td>Сергиев Посад</td>\n",
       "      <td>102</td>\n",
       "      <td>100</td>\n",
       "      <td>-1.96</td>\n",
       "    </tr>\n",
       "    <tr>\n",
       "      <th>1</th>\n",
       "      <td>Калуга</td>\n",
       "      <td>337</td>\n",
       "      <td>332</td>\n",
       "      <td>-1.48</td>\n",
       "    </tr>\n",
       "    <tr>\n",
       "      <th>2</th>\n",
       "      <td>Одинцово</td>\n",
       "      <td>138</td>\n",
       "      <td>136</td>\n",
       "      <td>-1.45</td>\n",
       "    </tr>\n",
       "    <tr>\n",
       "      <th>3</th>\n",
       "      <td>Березники</td>\n",
       "      <td>141</td>\n",
       "      <td>139</td>\n",
       "      <td>-1.42</td>\n",
       "    </tr>\n",
       "    <tr>\n",
       "      <th>4</th>\n",
       "      <td>Мурманск</td>\n",
       "      <td>292</td>\n",
       "      <td>288</td>\n",
       "      <td>-1.37</td>\n",
       "    </tr>\n",
       "    <tr>\n",
       "      <th>...</th>\n",
       "      <td>...</td>\n",
       "      <td>...</td>\n",
       "      <td>...</td>\n",
       "      <td>...</td>\n",
       "    </tr>\n",
       "    <tr>\n",
       "      <th>168</th>\n",
       "      <td>Ставрополь</td>\n",
       "      <td>437</td>\n",
       "      <td>451</td>\n",
       "      <td>3.20</td>\n",
       "    </tr>\n",
       "    <tr>\n",
       "      <th>169</th>\n",
       "      <td>Балашиха</td>\n",
       "      <td>490</td>\n",
       "      <td>507</td>\n",
       "      <td>3.47</td>\n",
       "    </tr>\n",
       "    <tr>\n",
       "      <th>170</th>\n",
       "      <td>Долгопрудный</td>\n",
       "      <td>112</td>\n",
       "      <td>116</td>\n",
       "      <td>3.57</td>\n",
       "    </tr>\n",
       "    <tr>\n",
       "      <th>171</th>\n",
       "      <td>Каспийск</td>\n",
       "      <td>119</td>\n",
       "      <td>124</td>\n",
       "      <td>4.20</td>\n",
       "    </tr>\n",
       "    <tr>\n",
       "      <th>172</th>\n",
       "      <td>Мытищи</td>\n",
       "      <td>223</td>\n",
       "      <td>236</td>\n",
       "      <td>5.83</td>\n",
       "    </tr>\n",
       "  </tbody>\n",
       "</table>\n",
       "<p>173 rows × 4 columns</p>\n",
       "</div>"
      ],
      "text/plain": [
       "              city   19   20  percent_change\n",
       "0    Сергиев Посад  102  100           -1.96\n",
       "1           Калуга  337  332           -1.48\n",
       "2         Одинцово  138  136           -1.45\n",
       "3        Березники  141  139           -1.42\n",
       "4         Мурманск  292  288           -1.37\n",
       "..             ...  ...  ...             ...\n",
       "168     Ставрополь  437  451            3.20\n",
       "169       Балашиха  490  507            3.47\n",
       "170   Долгопрудный  112  116            3.57\n",
       "171       Каспийск  119  124            4.20\n",
       "172         Мытищи  223  236            5.83\n",
       "\n",
       "[173 rows x 4 columns]"
      ]
     },
     "execution_count": 6,
     "metadata": {},
     "output_type": "execute_result"
    }
   ],
   "source": [
    "df['percent_change']=round(100*(df['20']-df['19'])/df['19'],2)\n",
    "df=df.sort_values('percent_change').reset_index(drop=True)\n",
    "df"
   ]
  },
  {
   "cell_type": "markdown",
   "metadata": {},
   "source": [
    "## Percent change distribution\n",
    "The distribution resembles normality. The distribution is skewed to the right. One city grew by more than 5%. None of the cities sampled had a major loss of population. "
   ]
  },
  {
   "cell_type": "code",
   "execution_count": 7,
   "metadata": {
    "scrolled": false
   },
   "outputs": [
    {
     "data": {
      "text/plain": [
       "<function matplotlib.pyplot.show(*args, **kw)>"
      ]
     },
     "execution_count": 7,
     "metadata": {},
     "output_type": "execute_result"
    },
    {
     "data": {
      "image/png": "[encoded data removed]",
      "text/plain": [
       "<Figure size 432x288 with 1 Axes>"
      ]
     },
     "metadata": {
      "needs_background": "light"
     },
     "output_type": "display_data"
    }
   ],
   "source": [
    "df.percent_change.hist(bins=20)\n",
    "plt.show"
   ]
  },
  {
   "cell_type": "markdown",
   "metadata": {},
   "source": [
    "## Creating a labeled column\n",
    "Each city will now be labeled either 'gain', 'loss', or 'stable' depending if the percent change in population is greater than 0.5%, less than 0%, or in between. "
   ]
  },
  {
   "cell_type": "code",
   "execution_count": 8,
   "metadata": {
    "scrolled": true
   },
   "outputs": [],
   "source": [
    "df['label']=''\n",
    "for index,row in df.iterrows():\n",
    "    change=row[3]\n",
    "    if change > .5:\n",
    "        df.iloc[index,4]='gain'\n",
    "    elif change < 0.0:\n",
    "        df.iloc[index,4]='loss'\n",
    "    else:\n",
    "        df.iloc[index,4]='stable'   "
   ]
  },
  {
   "cell_type": "markdown",
   "metadata": {},
   "source": [
    "## Label distribution \n",
    "With such criteria for labeling we are left with tree groups that are roughly the same size. "
   ]
  },
  {
   "cell_type": "code",
   "execution_count": 9,
   "metadata": {
    "scrolled": true
   },
   "outputs": [
    {
     "data": {
      "text/plain": [
       "loss      62\n",
       "stable    60\n",
       "gain      51\n",
       "Name: label, dtype: int64"
      ]
     },
     "execution_count": 9,
     "metadata": {},
     "output_type": "execute_result"
    }
   ],
   "source": [
    "df.label.value_counts()"
   ]
  },
  {
   "cell_type": "markdown",
   "metadata": {},
   "source": [
    "## Coordinates for the cities \n",
    "[This](https://gist.github.com/nalgeon/5307af065ff0e3bc97927c832fabe26b) person shared a data set that has the coordinates to many Russian cities. We will add two new columns to represent longitude and latitude. "
   ]
  },
  {
   "cell_type": "code",
   "execution_count": 12,
   "metadata": {},
   "outputs": [
    {
     "data": {
      "text/html": [
       "<div>\n",
       "<style scoped>\n",
       "    .dataframe tbody tr th:only-of-type {\n",
       "        vertical-align: middle;\n",
       "    }\n",
       "\n",
       "    .dataframe tbody tr th {\n",
       "        vertical-align: top;\n",
       "    }\n",
       "\n",
       "    .dataframe thead th {\n",
       "        text-align: right;\n",
       "    }\n",
       "</style>\n",
       "<table border=\"1\" class=\"dataframe\">\n",
       "  <thead>\n",
       "    <tr style=\"text-align: right;\">\n",
       "      <th></th>\n",
       "      <th>19</th>\n",
       "      <th>20</th>\n",
       "      <th>percent_change</th>\n",
       "      <th>label</th>\n",
       "      <th>long</th>\n",
       "      <th>lat</th>\n",
       "    </tr>\n",
       "    <tr>\n",
       "      <th>city</th>\n",
       "      <th></th>\n",
       "      <th></th>\n",
       "      <th></th>\n",
       "      <th></th>\n",
       "      <th></th>\n",
       "      <th></th>\n",
       "    </tr>\n",
       "  </thead>\n",
       "  <tbody>\n",
       "    <tr>\n",
       "      <th>Абакан</th>\n",
       "      <td>186</td>\n",
       "      <td>187</td>\n",
       "      <td>0.54</td>\n",
       "      <td>gain</td>\n",
       "      <td>53.722366</td>\n",
       "      <td>91.443779</td>\n",
       "    </tr>\n",
       "    <tr>\n",
       "      <th>Альметьевск</th>\n",
       "      <td>157</td>\n",
       "      <td>158</td>\n",
       "      <td>0.64</td>\n",
       "      <td>gain</td>\n",
       "      <td>54.901366</td>\n",
       "      <td>52.297065</td>\n",
       "    </tr>\n",
       "    <tr>\n",
       "      <th>Ангарск</th>\n",
       "      <td>225</td>\n",
       "      <td>225</td>\n",
       "      <td>0.00</td>\n",
       "      <td>stable</td>\n",
       "      <td>52.544810</td>\n",
       "      <td>103.888538</td>\n",
       "    </tr>\n",
       "    <tr>\n",
       "      <th>Арзамас</th>\n",
       "      <td>104</td>\n",
       "      <td>104</td>\n",
       "      <td>0.00</td>\n",
       "      <td>stable</td>\n",
       "      <td>55.394754</td>\n",
       "      <td>43.840785</td>\n",
       "    </tr>\n",
       "    <tr>\n",
       "      <th>Армавир</th>\n",
       "      <td>190</td>\n",
       "      <td>189</td>\n",
       "      <td>-0.53</td>\n",
       "      <td>loss</td>\n",
       "      <td>45.001034</td>\n",
       "      <td>41.132392</td>\n",
       "    </tr>\n",
       "  </tbody>\n",
       "</table>\n",
       "</div>"
      ],
      "text/plain": [
       "              19   20  percent_change   label       long         lat\n",
       "city                                                                \n",
       "Абакан       186  187            0.54    gain  53.722366   91.443779\n",
       "Альметьевск  157  158            0.64    gain  54.901366   52.297065\n",
       "Ангарск      225  225            0.00  stable  52.544810  103.888538\n",
       "Арзамас      104  104            0.00  stable  55.394754   43.840785\n",
       "Армавир      190  189           -0.53    loss  45.001034   41.132392"
      ]
     },
     "execution_count": 12,
     "metadata": {},
     "output_type": "execute_result"
    }
   ],
   "source": [
    "cities=pd.read_csv('all_cities.csv')\n",
    "cities=cities[[\"Город\",\"Широта\",\"Долгота\"]]\n",
    "cities.columns=['city','long','lat']\n",
    "cities=cities.set_index('city')\n",
    "df=df.set_index('city')\n",
    "df=df.join(cities)\n",
    "df.head()"
   ]
  },
  {
   "cell_type": "markdown",
   "metadata": {},
   "source": [
    "## Missing coordinates\n",
    "Unfortunately, the data doesn't cover six cities that were chosen for this project."
   ]
  },
  {
   "cell_type": "code",
   "execution_count": 13,
   "metadata": {
    "scrolled": false
   },
   "outputs": [
    {
     "data": {
      "text/plain": [
       "19                0\n",
       "20                0\n",
       "percent_change    0\n",
       "label             0\n",
       "long              6\n",
       "lat               6\n",
       "dtype: int64"
      ]
     },
     "execution_count": 13,
     "metadata": {},
     "output_type": "execute_result"
    }
   ],
   "source": [
    "df.isnull().sum()"
   ]
  },
  {
   "cell_type": "markdown",
   "metadata": {},
   "source": [
    "## Filling in the missing coordinates\n",
    "I loaded the data into an excel spreadsheet and then manually filled in the missing coordinates. "
   ]
  },
  {
   "cell_type": "code",
   "execution_count": 1,
   "metadata": {},
   "outputs": [],
   "source": [
    "df.to_csv('cities.csv',encoding='utf-8-sig')\n",
    "df=pd.read_csv('cities_fix.csv')"
   ]
  },
  {
   "cell_type": "markdown",
   "metadata": {},
   "source": [
    "## Mapping Russia's 173 biggest cities\n",
    "The map also shows if the city is stable (blue circle), growing (green triangle), or shrinking (upside down read triangle) in population. The Moscow region is very cluttered. I was surprised by the amout of big cities in the Caucasus, a much bigger demographic than I realized. I'm also surprised that Sain Petersburg isn't surrounded by other big cities like Moscow is. "
   ]
  },
  {
   "cell_type": "code",
   "execution_count": 15,
   "metadata": {
    "scrolled": false
   },
   "outputs": [
    {
     "data": {
      "text/plain": [
       "<matplotlib.legend.Legend at 0x2408f72c788>"
      ]
     },
     "execution_count": 15,
     "metadata": {},
     "output_type": "execute_result"
    },
    {
     "data": {
      "image/png": "[encoded data removed]",
      "text/plain": [
       "<Figure size 1296x1296 with 1 Axes>"
      ]
     },
     "metadata": {
      "needs_background": "light"
     },
     "output_type": "display_data"
    }
   ],
   "source": [
    "plt.figure(figsize=(18,18))\n",
    "m = plt.axes(projection=ccrs.RotatedPole())\n",
    "m.set_extent([26, 155, 41, 80], ccrs.PlateCarree()) \n",
    "m.add_feature(cfeature.COASTLINE)\n",
    "m.add_feature(cfeature.BORDERS) \n",
    "for i in df[df['label']=='gain'].itertuples():\n",
    "    m.scatter(i.lat, i.long, color='green',marker='^',alpha=.6,label='Gain' if i[0] == 0 else \"\", transform=ccrs.PlateCarree())\n",
    "for i in df[df['label']=='stable'].itertuples():\n",
    "    m.scatter(i.lat, i.long, color='blue',marker='o',alpha=.4,label='Stable' if i[0] == 2 else \"\", transform=ccrs.PlateCarree())\n",
    "for i in df[df['label']=='loss'].itertuples():\n",
    "    m.scatter(i.lat, i.long, color='red',marker='v',alpha=.6,label='Loss' if i[0] == 4 else \"\", transform=ccrs.PlateCarree())\n",
    "plt.legend()"
   ]
  },
  {
   "cell_type": "markdown",
   "metadata": {},
   "source": [
    "## Gathering salary data\n",
    "[Trud.com](https://www.trud.com/elista/salary/1571.html) has the average salary of all major cities in Russia. I scraped this data and added it to the data set. "
   ]
  },
  {
   "cell_type": "code",
   "execution_count": 2,
   "metadata": {},
   "outputs": [],
   "source": [
    "df['salary']=0\n",
    "driver= webdriver.Chrome()\n",
    "web = webdriver.Chrome()\n",
    "web.get('https://russia.trud.com/salary/692.html')\n",
    "for i,r in df.iterrows():\n",
    "    city=r[0]\n",
    "    web.get('https://russia.trud.com/salary/692.html')\n",
    "    search_field=web.find_element_by_xpath('//*[(@id = \"field-salary-options-location\")]')\n",
    "    search_field.clear()\n",
    "    search_field.send_keys(city)\n",
    "    search_field.send_keys(Keys.RETURN)   \n",
    "    salary=web.find_element_by_xpath('//*[contains(concat( \" \", @class, \" \" ), concat( \" \", \"ms__a\", \" \" ))]').text\n",
    "    df.iloc[i,7]=salary"
   ]
  },
  {
   "cell_type": "markdown",
   "metadata": {},
   "source": [
    "## Cleaning the new 'salary' column\n",
    "The ruble sign and commas needs to be remove"
   ]
  },
  {
   "cell_type": "code",
   "execution_count": 3,
   "metadata": {},
   "outputs": [
    {
     "data": {
      "text/html": [
       "<div>\n",
       "<style scoped>\n",
       "    .dataframe tbody tr th:only-of-type {\n",
       "        vertical-align: middle;\n",
       "    }\n",
       "\n",
       "    .dataframe tbody tr th {\n",
       "        vertical-align: top;\n",
       "    }\n",
       "\n",
       "    .dataframe thead th {\n",
       "        text-align: right;\n",
       "    }\n",
       "</style>\n",
       "<table border=\"1\" class=\"dataframe\">\n",
       "  <thead>\n",
       "    <tr style=\"text-align: right;\">\n",
       "      <th></th>\n",
       "      <th>city</th>\n",
       "      <th>19</th>\n",
       "      <th>20</th>\n",
       "      <th>percent_change</th>\n",
       "      <th>label</th>\n",
       "      <th>long</th>\n",
       "      <th>lat</th>\n",
       "      <th>salary</th>\n",
       "    </tr>\n",
       "  </thead>\n",
       "  <tbody>\n",
       "    <tr>\n",
       "      <th>0</th>\n",
       "      <td>Абакан</td>\n",
       "      <td>186</td>\n",
       "      <td>187</td>\n",
       "      <td>0.54</td>\n",
       "      <td>gain</td>\n",
       "      <td>53.722366</td>\n",
       "      <td>91.443779</td>\n",
       "      <td>39275</td>\n",
       "    </tr>\n",
       "    <tr>\n",
       "      <th>1</th>\n",
       "      <td>Альметьевск</td>\n",
       "      <td>157</td>\n",
       "      <td>158</td>\n",
       "      <td>0.64</td>\n",
       "      <td>gain</td>\n",
       "      <td>54.901366</td>\n",
       "      <td>52.297065</td>\n",
       "      <td>33592</td>\n",
       "    </tr>\n",
       "    <tr>\n",
       "      <th>2</th>\n",
       "      <td>Ангарск</td>\n",
       "      <td>225</td>\n",
       "      <td>225</td>\n",
       "      <td>0.00</td>\n",
       "      <td>stable</td>\n",
       "      <td>52.544810</td>\n",
       "      <td>103.888538</td>\n",
       "      <td>34463</td>\n",
       "    </tr>\n",
       "  </tbody>\n",
       "</table>\n",
       "</div>"
      ],
      "text/plain": [
       "          city   19   20  percent_change   label       long         lat  \\\n",
       "0       Абакан  186  187            0.54    gain  53.722366   91.443779   \n",
       "1  Альметьевск  157  158            0.64    gain  54.901366   52.297065   \n",
       "2      Ангарск  225  225            0.00  stable  52.544810  103.888538   \n",
       "\n",
       "   salary  \n",
       "0   39275  \n",
       "1   33592  \n",
       "2   34463  "
      ]
     },
     "execution_count": 3,
     "metadata": {},
     "output_type": "execute_result"
    }
   ],
   "source": [
    "df_salary=pd.read_csv('df_salary.csv')\n",
    "df_salary.salary=df_salary.salary.apply(lambda x: x.replace('₽','').replace(' ',''))\n",
    "df_salary.salary=df_salary.salary.astype(int)\n",
    "df_salary.head(3)"
   ]
  },
  {
   "cell_type": "markdown",
   "metadata": {},
   "source": [
    "## Creating a 'safty' column\n",
    "[Domonfond.ru](https://www.domofond.ru/statya/reyting_samyh_bezopasnyh_gorodov_rossii_v_2019_godu/100300) conducted a big survey where responds rated how safe they felt in their city. This survey included all but 19 of my sample cities. "
   ]
  },
  {
   "cell_type": "code",
   "execution_count": 125,
   "metadata": {
    "scrolled": true
   },
   "outputs": [
    {
     "data": {
      "text/plain": [
       "19                 0\n",
       "20                 0\n",
       "percent_change     0\n",
       "label              0\n",
       "long               0\n",
       "lat                0\n",
       "salary             0\n",
       "safty             19\n",
       "dtype: int64"
      ]
     },
     "execution_count": 125,
     "metadata": {},
     "output_type": "execute_result"
    }
   ],
   "source": [
    "safty=pd.read_csv('safty.csv',index_col=0,decimal=',')\n",
    "df_ss=df_salary.set_index('city').join(safty)\n",
    "df_ss.isnull().sum()"
   ]
  },
  {
   "cell_type": "markdown",
   "metadata": {},
   "source": [
    "## Filling in the missing 'safty' samples\n",
    "I will fill in the missing values manually on excel. Through google I will get the crime rate of each city. If the city is around the Russian average I will insert the mean (6.7). And if it's above or below the Russian average I'll insert the 75th or 25th percentile.  "
   ]
  },
  {
   "cell_type": "code",
   "execution_count": 126,
   "metadata": {
    "scrolled": true
   },
   "outputs": [
    {
     "data": {
      "text/plain": [
       "count    157.000000\n",
       "mean       6.681529\n",
       "std        0.589091\n",
       "min        4.500000\n",
       "25%        6.300000\n",
       "50%        6.700000\n",
       "75%        7.000000\n",
       "max        8.300000\n",
       "Name: safty, dtype: float64"
      ]
     },
     "execution_count": 126,
     "metadata": {},
     "output_type": "execute_result"
    }
   ],
   "source": [
    "df_ss.to_csv('df_ss.csv',encoding='utf-8-sig')\n",
    "df_ss.safty.describe()"
   ]
  },
  {
   "cell_type": "markdown",
   "metadata": {},
   "source": [
    "## Creating a 'vacancy' column\n",
    "[hh.ru](https://hh.ru/search/vacancy) shows how many job postings there are for each city. I'll web scrape this in and add it to the data set. "
   ]
  },
  {
   "cell_type": "code",
   "execution_count": 8,
   "metadata": {
    "scrolled": false
   },
   "outputs": [],
   "source": [
    "df_ssv=pd.read_csv('df_ss.csv')\n",
    "df_ssv['vacancy']=0\n",
    "web = webdriver.Chrome()\n",
    "for i,r in df_ssv.iloc[81:,:].iterrows():\n",
    "    city=r[0]\n",
    "    web.get('https://hh.ru/search/vacancy')\n",
    "    search_field=web.find_element_by_xpath('//*[contains(concat( \" \", @class, \" \" ), concat( \" \", \"HH-QueryLength-Observed\", \" \" ))]')\n",
    "    search_field.send_keys(city)\n",
    "    search_field.send_keys(Keys.RETURN)   \n",
    "    time.sleep(2)\n",
    "    vacancy=web.find_element_by_xpath('/html/body/div[6]/div/div/div[2]/div/div[1]/div/h1').text                          \n",
    "    df_ssv.iloc[i,-1]=vacancy\n",
    "df_ssv.to_csv('df_ssv.csv',encoding='utf-8-sig')\n",
    "     "
   ]
  },
  {
   "cell_type": "markdown",
   "metadata": {},
   "source": [
    "## Cleaning the 'vacancy' column\n",
    "I removed the spaces and city names that were also scrapped. "
   ]
  },
  {
   "cell_type": "code",
   "execution_count": 31,
   "metadata": {},
   "outputs": [],
   "source": [
    "df_ssv['vacancy']=df_ssv['vacancy'].map(lambda x: ''.join([i for i in x if i.isdigit()]))\n",
    "df_ssv.vacancy=df_ssv.vacancy.astype(int)\n",
    "df_ssv['vacancy_rate']=df_ssv['vacancy']/df_ssv['20']"
   ]
  },
  {
   "cell_type": "markdown",
   "metadata": {},
   "source": [
    "## Feature importance from a Random Forest Classifier\n",
    "The label column ('stable', 'gain', or 'loss') will be my target variable. My feature variables are the 2019 population, the latitude, the salary, the safty, and the vacancy columns. The feature importance output are all within 7% of each other, which means not one feature is not much better than the others at determining the target variable. "
   ]
  },
  {
   "cell_type": "code",
   "execution_count": 44,
   "metadata": {
    "scrolled": false
   },
   "outputs": [
    {
     "name": "stdout",
     "output_type": "stream",
     "text": [
      "Population in 2019 0.19781509308575837\n",
      "Latitude 0.18833861081949138\n",
      "Salary 0.24223940311799957\n",
      "Safty 0.19781157285214532\n",
      "Vacancy Rate 0.1737953201246054\n"
     ]
    }
   ],
   "source": [
    "y=df_ssv.label\n",
    "X=df_ssv[['19','lat','salary','safty','vacancy_rate']]\n",
    "feature_names=['Population in 2019','Latitude','Salary','Safty','Vacancy Rate']\n",
    "model=RandomForestClassifier(n_estimators=500)\n",
    "model.fit(X,y)\n",
    "for name, score in zip(feature_names, model.feature_importances_):\n",
    "    print(name,score)"
   ]
  },
  {
   "cell_type": "markdown",
   "metadata": {},
   "source": [
    "## Scatter plot visualization of the features variables against the percent change variable \n",
    "From the scatter plots we can see that none of the features I gathered have a strong correlation with the percent change of population. At this point it is obvious that I do not have the appropriate data to determine if a city will grow or decrease in population. "
   ]
  },
  {
   "cell_type": "code",
   "execution_count": 7,
   "metadata": {},
   "outputs": [
    {
     "data": {
      "image/png": "[encoded data removed]",
      "text/plain": [
       "<Figure size 720x1296 with 5 Axes>"
      ]
     },
     "metadata": {
      "needs_background": "light"
     },
     "output_type": "display_data"
    }
   ],
   "source": [
    "pop=df_ssv[df_ssv['19']<1000]\n",
    "fig,ax=plt.subplots(5)\n",
    "fig.set_size_inches(10,18)\n",
    "ax[0].scatter(df_ssv.salary,df_ssv.percent_change)\n",
    "ax[0].set_title('Salary vs Population Change', size=15, weight='bold')\n",
    "ax[1].scatter(df_ssv.safty,df_ssv.percent_change)\n",
    "ax[1].set_title('Safty vs Population Change', size=15, weight='bold')\n",
    "ax[2].scatter(pop['19'],pop.percent_change)\n",
    "ax[2].set_title('Population in 100 thousand (no Moscow or St. Pete) vs Population Change', size=15, weight='bold')\n",
    "ax[3].scatter(df_ssv.lat,df_ssv.percent_change)\n",
    "ax[3].set_title('Latitude vs Population Change', size=15, weight='bold')\n",
    "ax[4].scatter(pop.vacancy_rate,pop.percent_change)\n",
    "ax[4].set_title('Vacancy (no Moscow or St. Pete) vs Population Change', size=15, weight='bold')\n",
    "for ax in fig.axes:\n",
    "    plt.sca(ax)\n",
    "    plt.yticks([])\n",
    "    plt.xticks(rotation=45)\n",
    "    sns.despine(left=False)\n",
    "plt.tight_layout()"
   ]
  },
  {
   "cell_type": "markdown",
   "metadata": {},
   "source": [
    "## Next steps\n",
    "The variables that were gathered were probably not the best. Safty ratings are subjective, hh.ru may be more popular in some cities than others, latitude doesn't precisely describe the climate that might affect one's choice to relocate, and one's salary will have different purchasing powers depending on the city. Finding official statistics for each city proved to be very challenging. I believe that if I had focused on administrative territorial divisions, where there are more official statistics, I would have been able to construct a more meaningful model that could predict population movement. "
   ]
  }
 ],
 "metadata": {
  "kernelspec": {
   "display_name": "Python 3.7 (tensorflow)",
   "language": "python",
   "name": "tensorflow"
  },
  "language_info": {
   "codemirror_mode": {
    "name": "ipython",
    "version": 3
   },
   "file_extension": ".py",
   "mimetype": "text/x-python",
   "name": "python",
   "nbconvert_exporter": "python",
   "pygments_lexer": "ipython3",
   "version": "3.7.7"
  }
 },
 "nbformat": 4,
 "nbformat_minor": 4
}
